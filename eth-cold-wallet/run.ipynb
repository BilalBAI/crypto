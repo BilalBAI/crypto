{
 "cells": [
  {
   "cell_type": "code",
   "execution_count": 9,
   "metadata": {},
   "outputs": [],
   "source": [
    "from offline import *"
   ]
  },
  {
   "cell_type": "code",
   "execution_count": null,
   "metadata": {},
   "outputs": [],
   "source": [
    "# 1. Generate a seed phrase (do this offline)\n",
    "seed_phrase = generate_seed()\n",
    "print(f\"Generated Seed Phrase: {seed_phrase}\")\n",
    "\n"
   ]
  },
  {
   "cell_type": "code",
   "execution_count": null,
   "metadata": {},
   "outputs": [],
   "source": [
    "# 2. Derive private key from seed phrase\n",
    "private_key = derive_private_key(seed_phrase,3)\n",
    "print(f\"Derived Private Key: {private_key}\")\n"
   ]
  },
  {
   "cell_type": "code",
   "execution_count": null,
   "metadata": {},
   "outputs": [],
   "source": [
    "# 3. Load unsigned transaction (from a file or input)\n",
    "with open('unsigned_transaction.txt', 'r') as file:\n",
    "    unsigned_txn_str = file.read()\n"
   ]
  },
  {
   "cell_type": "code",
   "execution_count": null,
   "metadata": {},
   "outputs": [],
   "source": [
    "# 4. Sign the transaction offline\n",
    "signed_txn = sign_transaction_offline(unsigned_txn_str, private_key)\n",
    "print(f\"Signed Transaction (Hex): {signed_txn}\")\n",
    "\n"
   ]
  },
  {
   "cell_type": "code",
   "execution_count": null,
   "metadata": {},
   "outputs": [],
   "source": [
    "# 5. Save signed transaction to a file for transfer back to online computer\n",
    "with open('signed_transaction.txt', 'w') as file:\n",
    "    file.write(signed_txn)"
   ]
  }
 ],
 "metadata": {
  "kernelspec": {
   "display_name": "base",
   "language": "python",
   "name": "python3"
  },
  "language_info": {
   "codemirror_mode": {
    "name": "ipython",
    "version": 3
   },
   "file_extension": ".py",
   "mimetype": "text/x-python",
   "name": "python",
   "nbconvert_exporter": "python",
   "pygments_lexer": "ipython3",
   "version": "3.8.8"
  }
 },
 "nbformat": 4,
 "nbformat_minor": 2
}
